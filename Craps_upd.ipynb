{
  "nbformat": 4,
  "nbformat_minor": 0,
  "metadata": {
    "colab": {
      "provenance": [],
      "collapsed_sections": []
    },
    "kernelspec": {
      "name": "python3",
      "display_name": "Python 3"
    },
    "language_info": {
      "name": "python"
    }
  },
  "cells": [
    {
      "cell_type": "code",
      "execution_count": 16,
      "metadata": {
        "colab": {
          "base_uri": "https://localhost:8080/"
        },
        "id": "nOsiGlkWOHmf",
        "outputId": "143c418d-851c-48a5-be9b-5a2af45ac1a0"
      },
      "outputs": [
        {
          "name": "stdout",
          "output_type": "stream",
          "text": [
            "Enter your name: aa\n",
            "Welcome to the game, aa!\n",
            "Enter the starting amount of cash (in dollars): 3.4\n",
            "Oops!  That was no valid number.  Try again...\n",
            "Enter the starting amount of cash (in dollars): 5\n"
          ]
        },
        {
          "output_type": "execute_result",
          "data": {
            "text/plain": [
              "<__main__.Player at 0x7f62fd13b850>"
            ]
          },
          "metadata": {},
          "execution_count": 16
        }
      ],
      "source": [
        "#Assigning Dice that implements method roll that rolls two 6-sided dice\n",
        "from numpy import random as r #importing random from numpy to create random values for rolling the dice \n",
        "class Dice(object): # Assigning class Dice\n",
        "\n",
        "    def __init__(self): #initializing the object’s state\n",
        "        self.n_rolls = 0 #Initial number of rolls for the dice\n",
        "\n",
        "    def roll(self): #implementing method roll that rolls two 6-sided dice\n",
        "        self.n_rolls += 1 #enabling 1 roll per 1 call of function\n",
        "        self.result = r.randint(1, 7, size=2) #creating random values for rolling two dice\n",
        "        self.total = sum(self.result) #finding the sum of the results on the dice\n",
        "\n",
        "if __name__ == \"__main__\": #module’s name is available as value to __name__ global variable\n",
        "\n",
        "    d1 = Dice() #declaring Dice object\n",
        "    d1.roll()\n",
        "    d1.roll()\n",
        "    d1.roll() #rolling the dice three times per calling the object\n",
        "\n",
        "\n",
        "#Assigning class Table that inherit from Dice\n",
        "class Table(Dice):\n",
        "    def __init__(self): \n",
        "      self.status = \"Off\"\n",
        "      self.number = None\n",
        "\n",
        "      Dice.__init__(self)\n",
        "    \n",
        "    def pointStatus(self):\n",
        "      if self.status == \"Off\" and Dice.total in [4, 5, 6, 8, 9, 10]:\n",
        "            self.status = \"On\"\n",
        "            self.number = Dice.total\n",
        "      elif self.status == \"On\" and Dice.total in [7, self.number]:\n",
        "            self.status = \"Off\"\n",
        "            self.number = None\n",
        "\n",
        "\n",
        "#Assigning class Player that inherit from Table\n",
        "class Player(Table):\n",
        "    def __init__(self): \n",
        "        self.name = str(input(\"Enter your name: \"))\n",
        "        print(\"Welcome to the game, \" + self.name + \"!\")\n",
        "        \n",
        "        while True:\n",
        "          try:\n",
        "            self.bankroll = int(input(\"Enter the starting amount of cash (in dollars): \"))\n",
        "            break\n",
        "          except ValueError:\n",
        "            print(\"Oops!  That was no valid number.  Try again...\")\n",
        "\n",
        "        \n",
        "Player()\n",
        "        \n"
      ]
    }
  ]
}