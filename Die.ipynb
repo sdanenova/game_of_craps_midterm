{
  "nbformat": 4,
  "nbformat_minor": 0,
  "metadata": {
    "colab": {
      "provenance": [],
      "collapsed_sections": []
    },
    "kernelspec": {
      "name": "python3",
      "display_name": "Python 3"
    },
    "language_info": {
      "name": "python"
    }
  },
  "cells": [
    {
      "cell_type": "code",
      "execution_count": null,
      "metadata": {
        "id": "71OWuEtXjmcc"
      },
      "outputs": [],
      "source": [
        "import random\n",
        "\n",
        "class Die:\n",
        "    \n",
        "    def __init__(self):\n",
        "        self.sides= 6\n",
        "        self.rollNum = None\n",
        "\n",
        "    def roll(self):\n",
        "        self.rollNum = random.randint(1,self.sides)\n",
        "        return self.rollNum\n",
        "\n",
        "    def getNumDots(self):\n",
        "        return self.rollNum"
      ]
    }
  ]
}