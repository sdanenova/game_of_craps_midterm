{
  "nbformat": 4,
  "nbformat_minor": 0,
  "metadata": {
    "colab": {
      "provenance": [],
      "collapsed_sections": []
    },
    "kernelspec": {
      "name": "python3",
      "display_name": "Python 3"
    },
    "language_info": {
      "name": "python"
    }
  },
  "cells": [
    {
      "cell_type": "code",
      "execution_count": null,
      "metadata": {
        "id": "71OWuEtXjmcc"
      },
      "outputs": [],
      "source": [
        "import random\n",
        "\n",
        "class Die:\n",
        "    \n",
        "    def __init__(self):\n",
        "        self.sides= 6\n",
        "        self.rollNum = None\n",
        "\n",
        "    def roll(self):\n",
        "        self.rollNum1 = random.randint(1,self.sides)\n",
        "        self.rollNum2 = random.randint(1,self.sides)\n",
        "        return self.rollNum1\n",
        "        return self.rollNum2\n",
        "\n",
        "    def getNumDots(self):\n",
        "        return self.rollNum1"
        "        return self.rollNum2"
      ]
    }
  ]
}
