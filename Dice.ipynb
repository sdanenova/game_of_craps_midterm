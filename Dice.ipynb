{
  "nbformat": 4,
  "nbformat_minor": 0,
  "metadata": {
    "colab": {
      "provenance": [],
      "collapsed_sections": []
    },
    "kernelspec": {
      "name": "python3",
      "display_name": "Python 3"
    },
    "language_info": {
      "name": "python"
    }
  },
  "cells": [
    {
      "cell_type": "code",
      "execution_count": 39,
      "metadata": {
        "colab": {
          "base_uri": "https://localhost:8080/"
        },
        "id": "71OWuEtXjmcc",
        "outputId": "4a74b778-e6f3-4165-f01d-b29553dd1e27"
      },
      "outputs": [
        {
          "output_type": "stream",
          "name": "stdout",
          "text": [
            "3 1\n"
          ]
        }
      ],
      "source": [
        "import random\n",
        "\n",
        "class Dice:\n",
        "    \n",
        "    def __init__(self):\n",
        "        self.sides= 6\n",
        "        self.num_dice= 2\n",
        "        self.rollNum = None\n",
        "\n",
        "    def roll(self):\n",
        "        self.rollNum1 = random.randint(1,self.sides)\n",
        "        self.rollNum2 = random.randint(1,self.sides)\n",
        "        return self.rollNum1\n",
        "        return self.rollNum2\n",
        "        \n",
        "\n",
        "    def getNumDots(self):\n",
        "        return self.rollNum1\n",
        "        return self.rollNum2\n",
        "        \n",
        "\n",
        "d1 = Dice()\n",
        "\n",
        "d1.roll()\n",
        "\n",
        "\n",
        "print(d1.rollNum1, d1.rollNum2)\n"
      ]
    }
  ]
}